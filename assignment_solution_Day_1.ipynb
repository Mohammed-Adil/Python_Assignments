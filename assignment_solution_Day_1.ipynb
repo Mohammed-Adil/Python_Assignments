{
 "cells": [
  {
   "cell_type": "code",
   "execution_count": 1,
   "metadata": {},
   "outputs": [
    {
     "name": "stdout",
     "output_type": "stream",
     "text": [
      "your BMI is 22.857142857142858 You have a Normal weight \n"
     ]
    }
   ],
   "source": [
    "# Asking the user for inputs\n",
    "while True: \n",
    "    weight = float(input(\"Enter your weight in kilograms: \"))\n",
    "    height = float(input(\"Enter your height in meters: \"))\n",
    "    if weight <= 0 or height <= 0:\n",
    "        print('Please enter a positive number for height and weight')\n",
    "        continue\n",
    "    break\n",
    "\n",
    "# Calculate the BMI\n",
    "bmi = weight / (height**2)\n",
    "\n",
    "# Health assessment\n",
    "if bmi < 18.5:\n",
    "    print(f'your BMI is {bmi} You are underweight')\n",
    "elif bmi >= 18.5 and bmi <= 24.9:\n",
    "    print(f'your BMI is {bmi} You have a Normal weight ')\n",
    "elif bmi > 24.9  and bmi <= 29.9:\n",
    "    print(f'your BMI is  {bmi} You are overweight ')\n",
    "elif bmi > 24.9  and bmi <= 29.9:\n",
    "    print(f'your BMI is {bmi} You are overweight')\n",
    "else:\n",
    "    print(f'your BMI is {bmi} You are obesity')"
   ]
  },
  {
   "cell_type": "code",
   "execution_count": null,
   "metadata": {},
   "outputs": [],
   "source": []
  }
 ],
 "metadata": {
  "kernelspec": {
   "display_name": "Python 3",
   "language": "python",
   "name": "python3"
  },
  "language_info": {
   "codemirror_mode": {
    "name": "ipython",
    "version": 3
   },
   "file_extension": ".py",
   "mimetype": "text/x-python",
   "name": "python",
   "nbconvert_exporter": "python",
   "pygments_lexer": "ipython3",
   "version": "3.10.0"
  }
 },
 "nbformat": 4,
 "nbformat_minor": 2
}
